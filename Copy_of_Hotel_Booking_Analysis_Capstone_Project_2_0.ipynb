{
  "nbformat": 4,
  "nbformat_minor": 0,
  "metadata": {
    "colab": {
      "private_outputs": true,
      "provenance": [],
      "collapsed_sections": [
        "vncDsAP0Gaoa",
        "FJNUwmbgGyua",
        "w6K7xa23Elo4",
        "yQaldy8SH6Dl",
        "PH-0ReGfmX4f",
        "mDgbUHAGgjLW",
        "O_i_v8NEhb9l",
        "HhfV-JJviCcP",
        "Y3lxredqlCYt",
        "3RnN4peoiCZX",
        "x71ZqKXriCWQ",
        "7hBIi_osiCS2",
        "JlHwYmJAmNHm",
        "35m5QtbWiB9F",
        "PoPl-ycgm1ru",
        "H0kj-8xxnORC",
        "nA9Y7ga8ng1Z",
        "PBTbrJXOngz2",
        "u3PMJOP6ngxN",
        "dauF4eBmngu3",
        "bKJF3rekwFvQ",
        "MSa1f5Uengrz",
        "GF8Ens_Soomf",
        "0wOQAZs5pc--",
        "K5QZ13OEpz2H",
        "lQ7QKXXCp7Bj",
        "448CDAPjqfQr",
        "KSlN3yHqYklG",
        "t6dVpIINYklI",
        "ijmpgYnKYklI",
        "-JiQyfWJYklI",
        "EM7whBJCYoAo",
        "fge-S5ZAYoAp",
        "85gYPyotYoAp",
        "RoGjAbkUYoAp",
        "4Of9eVA-YrdM",
        "iky9q4vBYrdO",
        "F6T5p64dYrdO",
        "y-Ehk30pYrdP",
        "bamQiAODYuh1",
        "QHF8YVU7Yuh3",
        "GwzvFGzlYuh3",
        "qYpmQ266Yuh3",
        "OH-pJp9IphqM",
        "bbFf2-_FphqN",
        "_ouA3fa0phqN",
        "Seke61FWphqN",
        "PIIx-8_IphqN",
        "t27r6nlMphqO",
        "r2jJGEOYphqO",
        "b0JNsNcRphqO",
        "BZR9WyysphqO",
        "jj7wYXLtphqO",
        "eZrbJ2SmphqO",
        "rFu4xreNphqO",
        "YJ55k-q6phqO",
        "gCFgpxoyphqP",
        "OVtJsKN_phqQ",
        "lssrdh5qphqQ",
        "U2RJ9gkRphqQ",
        "1M8mcRywphqQ",
        "tgIPom80phqQ",
        "JMzcOPDDphqR",
        "x-EpHcCOp1ci",
        "X_VqEhTip1ck",
        "8zGJKyg5p1ck",
        "PVzmfK_Ep1ck",
        "n3dbpmDWp1ck",
        "ylSl6qgtp1ck",
        "ZWILFDl5p1ck",
        "M7G43BXep1ck",
        "Ag9LCva-p1cl",
        "E6MkPsBcp1cl",
        "2cELzS2fp1cl",
        "3MPXvC8up1cl",
        "NC_X3p0fY2L0",
        "UV0SzAkaZNRQ",
        "YPEH6qLeZNRQ",
        "q29F0dvdveiT",
        "EXh0U9oCveiU",
        "22aHeOlLveiV",
        "JcMwzZxoAimU",
        "8G2x9gOozGDZ",
        "gCX9965dhzqZ",
        "gIfDvo9L0UH2"
      ],
      "include_colab_link": true
    },
    "kernelspec": {
      "name": "python3",
      "display_name": "Python 3"
    },
    "language_info": {
      "name": "python"
    }
  },
  "cells": [
    {
      "cell_type": "markdown",
      "metadata": {
        "id": "view-in-github",
        "colab_type": "text"
      },
      "source": [
        "<a href=\"https://colab.research.google.com/github/Krrish1111/Hotel-Booking-Analysis-By-Krish-Patel/blob/main/Copy_of_Hotel_Booking_Analysis_Capstone_Project_2_0.ipynb\" target=\"_parent\"><img src=\"https://colab.research.google.com/assets/colab-badge.svg\" alt=\"Open In Colab\"/></a>"
      ]
    },
    {
      "cell_type": "markdown",
      "source": [
        "# **Project Name**    -\n",
        "\n"
      ],
      "metadata": {
        "id": "vncDsAP0Gaoa"
      }
    },
    {
      "cell_type": "markdown",
      "source": [
        "##### **Project Type**    - EDA\n",
        "##### **Contribution**    - Individual\n",
        "##### **Student Name -** Krish Patel\n"
      ],
      "metadata": {
        "id": "beRrZCGUAJYm"
      }
    },
    {
      "cell_type": "markdown",
      "source": [
        "# **Project Summary -**"
      ],
      "metadata": {
        "id": "FJNUwmbgGyua"
      }
    },
    {
      "cell_type": "markdown",
      "source": [
        "* In this project we have found some Valuable insights from given data.\n",
        "\n",
        "* First we have to import the data then we have to use function like Head(),\n",
        "  tail(), info(), describe(), columns() to get the overview of Data.\n",
        "\n",
        "* There are 119390 rows and 32 columns.\n",
        "\n",
        "\n",
        "* Columns are 'hotel', 'is_canceled', 'lead_time', 'arrival_date_year',\n",
        "  'arrival_date_month', 'arrival_date_week_number',\n",
        "  'arrival_date_day_of_month', 'stays_in_weekend_nights',\n",
        "  'stays_in_week_nights', 'adults', 'children', 'babies', 'meal',\n",
        "  'country', 'market_segment', 'distribution_channel',\n",
        "  'is_repeated_guest', 'previous_cancellations',\n",
        "  'previous_bookings_not_canceled', 'reserved_room_type',\n",
        "  'assigned_room_type', 'booking_changes', 'deposit_type', 'agent',\n",
        "  'company', 'days_in_waiting_list', 'customer_type', 'adr',\n",
        "  'required_car_parking_spaces', 'total_of_special_requests',\n",
        "  'reservation_status', 'reservation_status_date', 'total_stays_hotel',\n",
        "  'total_people',.\n",
        "      \n",
        "\n",
        "* There are three types of dtype of columns : int64, float64 and Object.\n",
        "\n",
        "* Dataset include Null Values and Duplicate Values. The column 'Country'\n",
        "  consists of 112593 null values. The columns 'Agent','Country' and 'Children' also include Null Values.\n",
        "\n",
        "* So we have to use fillna() function to fill Null Values and use Drop()  \n",
        "  Fuction to drop Duplicate Values.\n",
        "\n",
        "* we have changed the date type of variables children, agent, and\n",
        "  reservation_status_date to int64, int64, and datetime64, respectively.\n",
        "\n",
        "* There were some rows in which the combining values of adults, babies and\n",
        " childrens was 0. So it Indicate there is no Guest. So we have to drop that rows.\n",
        "\n",
        "* The data type of 'reservation_status_date' column was object type, so it was\n",
        "  changed to date type format.\n",
        "\n",
        "* We have added some columns like 'total_people' and ''total_stays_hotel''.\n",
        "  Where 'total_stays_hotel' incluides 'stays_in_weekend_nights' and' stays_in_week_nights' and total_people includes 'adults', 'children' and 'babies'.\n",
        "\n",
        "* After Data Wrangling the shape of rows and columns is (87230, 34).\n",
        "\n",
        "* After Data Collection, Data cleaning & manipulation, I Moved to Data\n",
        "  Visualization.\n",
        "\n",
        "* For Data Visualization we have use Different charts like bar chart, count  \n",
        "  plot, heatmap, correlation, histogram, pie chart etc.\n"
      ],
      "metadata": {
        "id": "F6v_1wHtG2nS"
      }
    },
    {
      "cell_type": "markdown",
      "source": [
        "# **GitHub Link -**"
      ],
      "metadata": {
        "id": "w6K7xa23Elo4"
      }
    },
    {
      "cell_type": "markdown",
      "source": [
        "Provide your GitHub Link here."
      ],
      "metadata": {
        "id": "h1o69JH3Eqqn"
      }
    },
    {
      "cell_type": "markdown",
      "source": [
        "# **Problem Statement**\n"
      ],
      "metadata": {
        "id": "yQaldy8SH6Dl"
      }
    },
    {
      "cell_type": "markdown",
      "source": [
        "Have you ever wondered about the best time of year to book a hotel room or the optimal length of stay to get the lowest daily rate? What if you wanted to predict whether a hotel is likely to receive an unusually high number of special requests? This hotel booking dataset can help you explore these questions! It includes booking details for both a city hotel and a resort hotel.\n",
        "\n",
        "We aim to determine which months are most preferred by customers, understand the typical length of stay, and identify the age groups of the customers. The dataset also includes information on the number of available parking spaces, among other variables. All personally identifiable information has been removed. This analysis is intended to provide business owners with key insights. Additionally, we want to identify which type of hotel is more in demand.\n",
        "\n",
        "\n",
        "\n",
        "\n",
        "\n"
      ],
      "metadata": {
        "id": "DpeJGUA3kjGy"
      }
    },
    {
      "cell_type": "markdown",
      "source": [
        "#### **Define Your Business Objective?**"
      ],
      "metadata": {
        "id": "PH-0ReGfmX4f"
      }
    },
    {
      "cell_type": "markdown",
      "source": [
        "Analyze the booking data for City Hotel and Resort Hotel to gain insights into the various factors influencing bookings. This insights helps to generate more revenue."
      ],
      "metadata": {
        "id": "PhDvGCAqmjP1"
      }
    },
    {
      "cell_type": "markdown",
      "source": [
        "# **General Guidelines** : -  "
      ],
      "metadata": {
        "id": "mDgbUHAGgjLW"
      }
    },
    {
      "cell_type": "markdown",
      "source": [
        "1.   Well-structured, formatted, and commented code is required.\n",
        "2.   Exception Handling, Production Grade Code & Deployment Ready Code will be a plus. Those students will be awarded some additional credits.\n",
        "     \n",
        "     The additional credits will have advantages over other students during Star Student selection.\n",
        "       \n",
        "             [ Note: - Deployment Ready Code is defined as, the whole .ipynb notebook should be executable in one go\n",
        "                       without a single error logged. ]\n",
        "\n",
        "3.   Each and every logic should have proper comments.\n",
        "4. You may add as many number of charts you want. Make Sure for each and every chart the following format should be answered.\n",
        "        \n",
        "\n",
        "```\n",
        "# Chart visualization code\n",
        "```\n",
        "            \n",
        "\n",
        "*   Why did you pick the specific chart?\n",
        "*   What is/are the insight(s) found from the chart?\n",
        "* Will the gained insights help creating a positive business impact?\n",
        "Are there any insights that lead to negative growth? Justify with specific reason.\n",
        "\n",
        "5. You have to create at least 20 logical & meaningful charts having important insights.\n",
        "\n",
        "\n",
        "[ Hints : - Do the Vizualization in  a structured way while following \"UBM\" Rule.\n",
        "\n",
        "U - Univariate Analysis,\n",
        "\n",
        "B - Bivariate Analysis (Numerical - Categorical, Numerical - Numerical, Categorical - Categorical)\n",
        "\n",
        "M - Multivariate Analysis\n",
        " ]\n",
        "\n",
        "\n",
        "\n"
      ],
      "metadata": {
        "id": "ZrxVaUj-hHfC"
      }
    },
    {
      "cell_type": "markdown",
      "source": [
        "# ***Let's Begin !***"
      ],
      "metadata": {
        "id": "O_i_v8NEhb9l"
      }
    },
    {
      "cell_type": "markdown",
      "source": [
        "## ***1. Know Your Data***"
      ],
      "metadata": {
        "id": "HhfV-JJviCcP"
      }
    },
    {
      "cell_type": "markdown",
      "source": [
        "### Import Libraries"
      ],
      "metadata": {
        "id": "Y3lxredqlCYt"
      }
    },
    {
      "cell_type": "code",
      "source": [
        "# Import Libraries\n",
        "import numpy as np\n",
        "import pandas as pd\n",
        "import seaborn as sns\n",
        "import matplotlib.pyplot as plt\n",
        "%matplotlib inline\n",
        "from datetime import datetime\n",
        "import ast"
      ],
      "metadata": {
        "id": "M8Vqi-pPk-HR"
      },
      "execution_count": null,
      "outputs": []
    },
    {
      "cell_type": "markdown",
      "source": [
        "### Dataset Loading"
      ],
      "metadata": {
        "id": "3RnN4peoiCZX"
      }
    },
    {
      "cell_type": "code",
      "source": [
        "# Load Dataset\n",
        "from google.colab import files\n",
        "uploaded = files.upload()\n",
        "\n"
      ],
      "metadata": {
        "id": "4CkvbW_SlZ_R"
      },
      "execution_count": null,
      "outputs": []
    },
    {
      "cell_type": "code",
      "source": [
        "# Dataset First Look\n",
        "df = pd.read_csv('Hotel Bookings.csv')"
      ],
      "metadata": {
        "id": "ERp7S46CnW7_"
      },
      "execution_count": null,
      "outputs": []
    },
    {
      "cell_type": "code",
      "source": [
        "# Dataset First Look\n",
        "df.head()"
      ],
      "metadata": {
        "id": "7b_-woTnnLR_"
      },
      "execution_count": null,
      "outputs": []
    },
    {
      "cell_type": "markdown",
      "source": [
        "### Dataset Rows & Columns count"
      ],
      "metadata": {
        "id": "7hBIi_osiCS2"
      }
    },
    {
      "cell_type": "code",
      "source": [
        "# Dataset Rows & Columns count\n",
        "df.shape"
      ],
      "metadata": {
        "id": "Kllu7SJgmLij"
      },
      "execution_count": null,
      "outputs": []
    },
    {
      "cell_type": "markdown",
      "source": [
        "### Dataset Information"
      ],
      "metadata": {
        "id": "JlHwYmJAmNHm"
      }
    },
    {
      "cell_type": "code",
      "source": [
        "# Dataset Info\n",
        "df.info()"
      ],
      "metadata": {
        "id": "e9hRXRi6meOf"
      },
      "execution_count": null,
      "outputs": []
    },
    {
      "cell_type": "markdown",
      "source": [
        "#### Duplicate Values"
      ],
      "metadata": {
        "id": "35m5QtbWiB9F"
      }
    },
    {
      "cell_type": "code",
      "source": [
        "# Dataset Duplicate Value Count\n",
        "df.duplicated().value_counts()"
      ],
      "metadata": {
        "id": "1sLdpKYkmox0"
      },
      "execution_count": null,
      "outputs": []
    },
    {
      "cell_type": "markdown",
      "source": [
        "#### Missing Values/Null Values"
      ],
      "metadata": {
        "id": "PoPl-ycgm1ru"
      }
    },
    {
      "cell_type": "code",
      "source": [
        "# Missing Values/Null Values Count\n",
        "print(df.isnull().sum())"
      ],
      "metadata": {
        "id": "GgHWkxvamxVg"
      },
      "execution_count": null,
      "outputs": []
    },
    {
      "cell_type": "code",
      "source": [
        "# Visualizing the missing values\n",
        "plt.figure(figsize=(24, 12))\n",
        "sns.heatmap(df.isnull(), cbar = False)\n",
        "plt.xlabel('Columns')\n",
        "plt.title('Places of missing values')"
      ],
      "metadata": {
        "id": "3q5wnI3om9sJ"
      },
      "execution_count": null,
      "outputs": []
    },
    {
      "cell_type": "markdown",
      "source": [
        "### What did you know about your dataset?"
      ],
      "metadata": {
        "id": "H0kj-8xxnORC"
      }
    },
    {
      "cell_type": "markdown",
      "source": [
        "Dataset Overview:\n",
        "\n",
        "The dataset contains 119,390 rows and 32 columns.\n",
        "Columns represent various attributes of hotel bookings, such as booking details, guest information, stay details, and reservation status.\n",
        "\n",
        "The dataset includes three data types: int64, float64, and object.\n",
        "Columns:\n",
        "\n",
        "Key columns include 'hotel', 'is_canceled', 'lead_time', 'arrival_date_year', 'arrival_date_month', 'arrival_date_week_number', 'arrival_date_day_of_month', 'stays_in_weekend_nights', 'stays_in_week_nights', 'adults', 'children', 'babies', 'meal', 'country', 'market_segment', 'distribution_channel', 'is_repeated_guest', 'previous_cancellations', 'previous_bookings_not_canceled', 'reserved_room_type', 'assigned_room_type', 'booking_changes', 'deposit_type', 'agent', 'company', 'days_in_waiting_list', 'customer_type', 'adr', 'required_car_parking_spaces', 'total_of_special_requests', 'reservation_status', 'reservation_status_date', 'total_stays_hotel', and 'total_people'.\n",
        "New columns added: 'total_stays_hotel' and 'total_people'.\n",
        "Null Values:\n",
        "\n",
        "Significant null values in columns like 'Country' (112,593 nulls), 'Agent', and 'Children'.\n"
      ],
      "metadata": {
        "id": "gfoNAAC-nUe_"
      }
    },
    {
      "cell_type": "markdown",
      "source": [
        "## ***2. Understanding Your Variables***"
      ],
      "metadata": {
        "id": "nA9Y7ga8ng1Z"
      }
    },
    {
      "cell_type": "code",
      "source": [
        "# Dataset Columns\n",
        "df.columns"
      ],
      "metadata": {
        "id": "j7xfkqrt5Ag5"
      },
      "execution_count": null,
      "outputs": []
    },
    {
      "cell_type": "code",
      "source": [
        "# Dataset Describe\n",
        "df.describe(include =\"all\")"
      ],
      "metadata": {
        "id": "DnOaZdaE5Q5t"
      },
      "execution_count": null,
      "outputs": []
    },
    {
      "cell_type": "markdown",
      "source": [
        "### Variables Description"
      ],
      "metadata": {
        "id": "PBTbrJXOngz2"
      }
    },
    {
      "cell_type": "markdown",
      "source": [
        "1) hotel: Type of hotel (e.g., Resort Hotel or City Hotel).\n",
        "\n",
        "\n",
        "2) is_canceled: Whether the booking was canceled (1) or not (0).\n",
        "\n",
        "3) lead_time: Number of days between the booking date and the arrival date.\n",
        "\n",
        "4) arrival_date_year: Year of arrival date.\n",
        "\n",
        "5) arrival_date_month: Month of arrival date.\n",
        "\n",
        "6) arrival_date_week_number: Week number of arrival date.\n",
        "\n",
        "7) arrival_date_day_of_month: Day of arrival date.\n",
        "\n",
        "8) stays_in_weekend_nights: Number of weekend nights (Saturday and Sunday) the guest stayed or booked to stay.\n",
        "\n",
        "9) stays_in_week_nights: Number of week nights (Monday to Friday) the guest stayed or booked to stay.\n",
        "\n",
        "10) adults: Number of adults.\n",
        "\n",
        "11) children: Number of children.\n",
        "\n",
        "12) babies: Number of babies.\n",
        "\n",
        "13) meal: Type of meal booked (e.g., BB - Bed & Breakfast, HB - Half Board).\n",
        "\n",
        "14) country: Country of origin of the guest.\n",
        "\n",
        "15) market_segment: Market segment designation (e.g., Direct, Corporate, Online TA).\n",
        "\n",
        "16) distribution_channel: Booking distribution channel (e.g., Direct, TA/TO).\n",
        "\n",
        "17) is_repeated_guest: Whether the booking is from a repeated guest (1) or not (0).\n",
        "\n",
        "18) previous_cancellations: Number of previous bookings that were canceled by the customer prior to the current booking.\n",
        "\n",
        "19) previous_bookings_not_canceled: Number of previous bookings not canceled by the customer prior to the current booking.\n",
        "\n",
        "20) reserved_room_type: Code of the room type reserved.\n",
        "\n",
        "21) assigned_room_type: Code of the room type assigned.\n",
        "\n",
        "22) booking_changes: Number of changes made to the booking from the moment the booking was entered until the arrival date.\n",
        "\n",
        "23) deposit_type: Type of deposit made (e.g., No Deposit, Non Refund).\n",
        "\n",
        "24) agent: ID of the travel agency that made the booking.\n",
        "\n",
        "25) company: ID of the company/entity that made the booking.\n",
        "\n",
        "26) days_in_waiting_list: Number of days the booking was in the waiting list before it was confirmed to the customer.\n",
        "\n",
        "27) customer_type: Type of booking (e.g., Contract, Group, Transient).\n",
        "\n",
        "28) adr: Average Daily Rate (ADR) as defined by dividing the sum of all lodging transactions by the total number of staying nights.\n",
        "\n",
        "29) required_car_parking_spaces: Number of car parking spaces required by the customer.\n",
        "\n",
        "29) total_of_special_requests: Number of special requests made by the customer (e.g., high floor, crib).\n",
        "\n",
        "30) reservation_status: Reservation status (e.g., Canceled, Check-Out).\n",
        "\n",
        "31) reservation_status_date: Date at which the last status was set.\n",
        "\n",
        "32) total_stays_hotel: Total nights stayed at the hotel ('stays_in_weekend_nights' + 'stays_in_week_nights').\n",
        "\n",
        "\n",
        "\n",
        "\n",
        "total_people: Total number of people ('adults' + 'children' + 'babies')."
      ],
      "metadata": {
        "id": "aJV4KIxSnxay"
      }
    },
    {
      "cell_type": "markdown",
      "source": [
        "### Check Unique Values for each variable."
      ],
      "metadata": {
        "id": "u3PMJOP6ngxN"
      }
    },
    {
      "cell_type": "code",
      "source": [
        "# Check Unique Values for each variable.\n",
        "for i in df.columns.tolist():\n",
        "  print(\"Number of Unique Value in\", i, \"is\", df[i].nunique(), \".\")"
      ],
      "metadata": {
        "id": "zms12Yq5n-jE"
      },
      "execution_count": null,
      "outputs": []
    },
    {
      "cell_type": "markdown",
      "source": [
        "## 3. ***Data Wrangling***"
      ],
      "metadata": {
        "id": "dauF4eBmngu3"
      }
    },
    {
      "cell_type": "markdown",
      "source": [
        "### Data Wrangling Code"
      ],
      "metadata": {
        "id": "bKJF3rekwFvQ"
      }
    },
    {
      "cell_type": "code",
      "source": [
        "# Write your code to make your dataset analysis ready.\n",
        "#replacing null value wiyh 0\n",
        "null_columns = ['agent','children', 'company']\n",
        "for i in null_columns:\n",
        "  df[i].fillna(0.0, inplace = True)\n",
        "df['country'].fillna('other', inplace = True)"
      ],
      "metadata": {
        "id": "wk-9a2fpoLcV"
      },
      "execution_count": null,
      "outputs": []
    },
    {
      "cell_type": "code",
      "source": [
        "df.shape"
      ],
      "metadata": {
        "id": "q2Dcvs5NxzuB"
      },
      "execution_count": null,
      "outputs": []
    },
    {
      "cell_type": "code",
      "source": [
        "# Checking the shape of dataset whose combining values of adults, babies and children columns is 0\n",
        "df[df['adults']+df['babies']+df['children'] == 0].shape"
      ],
      "metadata": {
        "id": "TBiNzHg9g4G0"
      },
      "execution_count": null,
      "outputs": []
    },
    {
      "cell_type": "code",
      "source": [
        "# Dropping the rows where combining values of adults, babies and children columns is 0, because it simply means no bookings were made\n",
        "df.drop(df[df['adults']+df['babies']+df['children'] == 0].index, inplace = True)"
      ],
      "metadata": {
        "id": "_3KnVXnGg-Os"
      },
      "execution_count": null,
      "outputs": []
    },
    {
      "cell_type": "code",
      "source": [
        "df.shape"
      ],
      "metadata": {
        "id": "BwnVywOcyDlk"
      },
      "execution_count": null,
      "outputs": []
    },
    {
      "cell_type": "code",
      "source": [
        "df.duplicated().value_counts()"
      ],
      "metadata": {
        "id": "4czbYL0Xg-lW"
      },
      "execution_count": null,
      "outputs": []
    },
    {
      "cell_type": "code",
      "source": [
        "# Dropping the duplicate rows from dataset\n",
        "df = df.drop_duplicates()"
      ],
      "metadata": {
        "id": "D9lUK81IyOQ9"
      },
      "execution_count": null,
      "outputs": []
    },
    {
      "cell_type": "code",
      "source": [
        "df.duplicated().value_counts()"
      ],
      "metadata": {
        "id": "Kof83EHtg-r5"
      },
      "execution_count": null,
      "outputs": []
    },
    {
      "cell_type": "code",
      "source": [
        "df[['children', 'agent', 'company']] = df[['children', 'agent', 'company']].astype('int64')"
      ],
      "metadata": {
        "id": "uNdne688g-03"
      },
      "execution_count": null,
      "outputs": []
    },
    {
      "cell_type": "code",
      "source": [
        "# Changing datatype of column 'reservation_status_date' from object to data_type\n",
        "df['reservation_status_date'] = df['reservation_status_date'].str.replace('/', '-')\n"
      ],
      "metadata": {
        "id": "68jvr7Fng-5A"
      },
      "execution_count": null,
      "outputs": []
    },
    {
      "cell_type": "code",
      "source": [
        "# Adding total staying days in hotels\n",
        "df['total_stays_hotel'] = df['stays_in_weekend_nights']+df['stays_in_week_nights']"
      ],
      "metadata": {
        "id": "3NjMDfPpg-92"
      },
      "execution_count": null,
      "outputs": []
    },
    {
      "cell_type": "code",
      "source": [
        "# Adding total people number as column, i.e. total types of person = num of adults + children + babies\n",
        "df['total_people'] = df['adults']+df['children']+df['babies']"
      ],
      "metadata": {
        "id": "bf5SyLHyg_IQ"
      },
      "execution_count": null,
      "outputs": []
    },
    {
      "cell_type": "code",
      "source": [
        "df['guest_catagory'] = np.where(df['total_people'] == 1, 'single', np.where(df['total_people'] == 2, 'couple', 'Family'))"
      ],
      "metadata": {
        "id": "jGicMDprhEjz"
      },
      "execution_count": null,
      "outputs": []
    },
    {
      "cell_type": "markdown",
      "source": [
        "### What all manipulations have you done and insights you found?"
      ],
      "metadata": {
        "id": "MSa1f5Uengrz"
      }
    },
    {
      "cell_type": "markdown",
      "source": [
        "1) All missing values in the dataset were replaced with 0.\n",
        "\n",
        "\n",
        "2) Rows where the combined count of adults, babies, and children equals 0 were deleted from the dataset.\n",
        "\n",
        "\n",
        "3) Any duplicate rows in the dataset were removed to ensure data integrity.\n",
        "\n",
        "\n",
        "4) The data types of the 'children', 'agent', and 'company' columns were changed to int64.\n",
        "   The data type of the 'reservation_status_date' column was changed to a date format.\n",
        "\n",
        "\n",
        "5) A new column, 'total_stays_hotel', was created by adding the values of 'stays_in_weekend_nights' and 'stays_in_week_nights'.\n",
        "\n",
        "\n",
        "6) A new column, 'total_people', was created by summing the values of 'adults', 'children', and 'babies'.\n",
        "\n",
        "\n",
        "7) A new column, 'guest_category', was added to classify guests based on certain criteria.\n",
        "\n",
        "These steps were essential in cleaning and transforming the data to make it suitable for analysis and visualization.\n",
        "\n",
        "\n"
      ],
      "metadata": {
        "id": "LbyXE7I1olp8"
      }
    },
    {
      "cell_type": "markdown",
      "source": [
        "## ***4. Data Vizualization, Storytelling & Experimenting with charts : Understand the relationships between variables***"
      ],
      "metadata": {
        "id": "GF8Ens_Soomf"
      }
    },
    {
      "cell_type": "markdown",
      "source": [
        "#### Chart - 1"
      ],
      "metadata": {
        "id": "0wOQAZs5pc--"
      }
    },
    {
      "cell_type": "code",
      "source": [
        "# Chart - 1 visualization code\n",
        "\n",
        "# Visualizing by pie chart\n",
        "df['hotel'].value_counts().plot.pie(autopct ='%1.1f%%', shadow = True, figsize =(10,9), fontsize = 20)\n",
        "\n",
        "#labels\n",
        "plt.title('Most Preferred Hotel', fontsize = 20)\n",
        "plt.show()"
      ],
      "metadata": {
        "id": "7v_ESjsspbW7"
      },
      "execution_count": null,
      "outputs": []
    },
    {
      "cell_type": "markdown",
      "source": [
        "##### 1. Why did you pick the specific chart?"
      ],
      "metadata": {
        "id": "K5QZ13OEpz2H"
      }
    },
    {
      "cell_type": "markdown",
      "source": [
        "To determine the percentage distribution of different hotels, using a pie chart would be appropriate."
      ],
      "metadata": {
        "id": "XESiWehPqBRc"
      }
    },
    {
      "cell_type": "markdown",
      "source": [
        "##### 2. What is/are the insight(s) found from the chart?"
      ],
      "metadata": {
        "id": "lQ7QKXXCp7Bj"
      }
    },
    {
      "cell_type": "markdown",
      "source": [
        "The Resort Hotel holds a 38.9% share, while the City Hotel accounts for 61.1% of the total share."
      ],
      "metadata": {
        "id": "C_j1G7yiqdRP"
      }
    },
    {
      "cell_type": "markdown",
      "source": [
        "##### 3. Will the gained insights help creating a positive business impact?\n",
        "Are there any insights that lead to negative growth? Justify with specific reason."
      ],
      "metadata": {
        "id": "448CDAPjqfQr"
      }
    },
    {
      "cell_type": "markdown",
      "source": [
        "The City Hotel has a higher booking rate compared to the Resort Hotel, indicating greater growth potential for anyone looking to open a new hotel."
      ],
      "metadata": {
        "id": "3cspy4FjqxJW"
      }
    },
    {
      "cell_type": "markdown",
      "source": [
        "#### Chart - 2"
      ],
      "metadata": {
        "id": "KSlN3yHqYklG"
      }
    },
    {
      "cell_type": "code",
      "source": [
        "# Chart - 2 visualization code\n",
        "plt.figure(figsize = (10, 10))\n",
        "\n",
        "# Creating Count Plot\n",
        "sns.countplot(x = df['meal'])\n",
        "\n",
        "#lables\n",
        "plt.xlabel('Meal Type', fontsize = 15)\n",
        "plt.ylabel('Count', fontsize = 15)\n",
        "plt.title('Preferred Meal Type', fontsize = 22)\n",
        "\n",
        "plt.show()"
      ],
      "metadata": {
        "id": "R4YgtaqtYklH"
      },
      "execution_count": null,
      "outputs": []
    },
    {
      "cell_type": "markdown",
      "source": [
        "##### 1. Why did you pick the specific chart?"
      ],
      "metadata": {
        "id": "t6dVpIINYklI"
      }
    },
    {
      "cell_type": "markdown",
      "source": [
        "To identify the most preferred meal among customers, using a count plot would be appropriate."
      ],
      "metadata": {
        "id": "5aaW0BYyYklI"
      }
    },
    {
      "cell_type": "markdown",
      "source": [
        "##### 2. What is/are the insight(s) found from the chart?"
      ],
      "metadata": {
        "id": "ijmpgYnKYklI"
      }
    },
    {
      "cell_type": "markdown",
      "source": [
        "The BB meal is the most popular choice among customers, while the FB meal is the least favored."
      ],
      "metadata": {
        "id": "PSx9atu2YklI"
      }
    },
    {
      "cell_type": "markdown",
      "source": [
        "##### 3. Will the gained insights help creating a positive business impact?\n",
        "Are there any insights that lead to negative growth? Justify with specific reason."
      ],
      "metadata": {
        "id": "-JiQyfWJYklI"
      }
    },
    {
      "cell_type": "markdown",
      "source": [
        "You can promote the BB menu extensively to attract new customers effectively."
      ],
      "metadata": {
        "id": "BcBbebzrYklV"
      }
    },
    {
      "cell_type": "markdown",
      "source": [
        "#### Chart - 3"
      ],
      "metadata": {
        "id": "EM7whBJCYoAo"
      }
    },
    {
      "cell_type": "code",
      "source": [
        "# Chart - 3 visualization code\n",
        "df['is_repeated_guest'].value_counts().plot.pie(autopct = '%1.2f%%', shadow = True)\n",
        "plt.show()"
      ],
      "metadata": {
        "id": "t6GMdE67YoAp"
      },
      "execution_count": null,
      "outputs": []
    },
    {
      "cell_type": "markdown",
      "source": [
        "##### 1. Why did you pick the specific chart?"
      ],
      "metadata": {
        "id": "fge-S5ZAYoAp"
      }
    },
    {
      "cell_type": "markdown",
      "source": [
        "A pie chart is suitable for illustrating the percentage of customers who are repeat visitors."
      ],
      "metadata": {
        "id": "5dBItgRVYoAp"
      }
    },
    {
      "cell_type": "markdown",
      "source": [
        "##### 2. What is/are the insight(s) found from the chart?"
      ],
      "metadata": {
        "id": "85gYPyotYoAp"
      }
    },
    {
      "cell_type": "markdown",
      "source": [
        "Just 3.86% of the customers are repeat visitors."
      ],
      "metadata": {
        "id": "4jstXR6OYoAp"
      }
    },
    {
      "cell_type": "markdown",
      "source": [
        "##### 3. Will the gained insights help creating a positive business impact?\n",
        "Are there any insights that lead to negative growth? Justify with specific reason."
      ],
      "metadata": {
        "id": "RoGjAbkUYoAp"
      }
    },
    {
      "cell_type": "markdown",
      "source": [
        "The low rate of customer repeat visits suggests that the owner should reconsider and implement improvements to enhance customer retention."
      ],
      "metadata": {
        "id": "zfJ8IqMcYoAp"
      }
    },
    {
      "cell_type": "markdown",
      "source": [
        "#### Chart - 4"
      ],
      "metadata": {
        "id": "4Of9eVA-YrdM"
      }
    },
    {
      "cell_type": "code",
      "source": [
        "# Chart - 4 visualization code\n",
        "plt.figure(figsize = (15, 5))\n",
        "sns.countplot(x = df['market_segment'])\n",
        "plt.show()"
      ],
      "metadata": {
        "id": "irlUoxc8YrdO"
      },
      "execution_count": null,
      "outputs": []
    },
    {
      "cell_type": "markdown",
      "source": [
        "##### 1. Why did you pick the specific chart?"
      ],
      "metadata": {
        "id": "iky9q4vBYrdO"
      }
    },
    {
      "cell_type": "markdown",
      "source": [
        "To determine which market segment is the most popular, a count chart would be appropriate."
      ],
      "metadata": {
        "id": "aJRCwT6DYrdO"
      }
    },
    {
      "cell_type": "markdown",
      "source": [
        "##### 2. What is/are the insight(s) found from the chart?"
      ],
      "metadata": {
        "id": "F6T5p64dYrdO"
      }
    },
    {
      "cell_type": "markdown",
      "source": [
        "The Online TA market segment is the most popular, while the Corporate, Complementary, and Aviation segments are the least favored. Offline TA/TO and Direct market segments also show considerable popularity."
      ],
      "metadata": {
        "id": "Xx8WAJvtYrdO"
      }
    },
    {
      "cell_type": "markdown",
      "source": [
        "##### 3. Will the gained insights help creating a positive business impact?\n",
        "Are there any insights that lead to negative growth? Justify with specific reason."
      ],
      "metadata": {
        "id": "y-Ehk30pYrdP"
      }
    },
    {
      "cell_type": "markdown",
      "source": [
        "The Corporate, Complementary, and Aviation market segments show very minimal presence, which is concerning and indicates a negative trend."
      ],
      "metadata": {
        "id": "jLNxxz7MYrdP"
      }
    },
    {
      "cell_type": "markdown",
      "source": [
        "#### Chart - 5"
      ],
      "metadata": {
        "id": "bamQiAODYuh1"
      }
    },
    {
      "cell_type": "code",
      "source": [
        "plt.figure(figsize=(10,5))\n",
        "plot=plt.subplot(111)\n",
        "ax=sns.countplot(x=df['total_of_special_requests'], hue=df['guest_catagory'])\n",
        "ax.set_title('total_of_special_requests by % of customers')\n",
        "\n",
        "plt.tight_layout()\n",
        "plt.show()"
      ],
      "metadata": {
        "id": "TIJwrbroYuh3"
      },
      "execution_count": null,
      "outputs": []
    },
    {
      "cell_type": "markdown",
      "source": [
        "##### 1. Why did you pick the specific chart?"
      ],
      "metadata": {
        "id": "QHF8YVU7Yuh3"
      }
    },
    {
      "cell_type": "markdown",
      "source": [
        "To explore the relationship between guest type and total special requests, a count chart would be appropriate."
      ],
      "metadata": {
        "id": "dcxuIMRPYuh3"
      }
    },
    {
      "cell_type": "markdown",
      "source": [
        "##### 2. What is/are the insight(s) found from the chart?"
      ],
      "metadata": {
        "id": "GwzvFGzlYuh3"
      }
    },
    {
      "cell_type": "markdown",
      "source": [
        "The majority of customers are couples, and most of them typically make either 0 or 1 special request."
      ],
      "metadata": {
        "id": "uyqkiB8YYuh3"
      }
    },
    {
      "cell_type": "markdown",
      "source": [
        "##### 3. Will the gained insights help creating a positive business impact?\n",
        "Are there any insights that lead to negative growth? Justify with specific reason."
      ],
      "metadata": {
        "id": "qYpmQ266Yuh3"
      }
    },
    {
      "cell_type": "markdown",
      "source": [
        "Since most customers do not make many special requests, the hotel has limited opportunities to charge extra fees. This results in lower revenue for the hotel."
      ],
      "metadata": {
        "id": "_WtzZ_hCYuh4"
      }
    },
    {
      "cell_type": "markdown",
      "source": [
        "#### Chart - 6"
      ],
      "metadata": {
        "id": "OH-pJp9IphqM"
      }
    },
    {
      "cell_type": "code",
      "source": [
        "# Chart - 6 visualization code\n",
        "conform_booking = df[df['is_canceled'] == 0]\n",
        "\n",
        "sns.countplot(data = conform_booking, x = 'arrival_date_year', hue = 'hotel')\n",
        "plt.title('No of Booking Per Year')\n",
        "plt.show()"
      ],
      "metadata": {
        "id": "kuRf4wtuphqN"
      },
      "execution_count": null,
      "outputs": []
    },
    {
      "cell_type": "markdown",
      "source": [
        "##### 1. Why did you pick the specific chart?"
      ],
      "metadata": {
        "id": "bbFf2-_FphqN"
      }
    },
    {
      "cell_type": "markdown",
      "source": [
        "To determine in which year hotels received the highest number of bookings, a count chart would be suitable."
      ],
      "metadata": {
        "id": "loh7H2nzphqN"
      }
    },
    {
      "cell_type": "markdown",
      "source": [
        "##### 2. What is/are the insight(s) found from the chart?"
      ],
      "metadata": {
        "id": "_ouA3fa0phqN"
      }
    },
    {
      "cell_type": "markdown",
      "source": [
        "City hotels had more bookings than resort hotels in 2016 and 2017.\n",
        "\n",
        "There was a noticeable increase in bookings from 2015 to 2016, followed by a decline in the subsequent year."
      ],
      "metadata": {
        "id": "VECbqPI7phqN"
      }
    },
    {
      "cell_type": "markdown",
      "source": [
        "##### 3. Will the gained insights help creating a positive business impact?\n",
        "Are there any insights that lead to negative growth? Justify with specific reason."
      ],
      "metadata": {
        "id": "Seke61FWphqN"
      }
    },
    {
      "cell_type": "markdown",
      "source": [
        "The owner of the City hotel has greater potential to increase revenue. The decrease in bookings from 2015 to 2016 for both hotels suggests there is likely a significant underlying reason for this trend."
      ],
      "metadata": {
        "id": "DW4_bGpfphqN"
      }
    },
    {
      "cell_type": "markdown",
      "source": [
        "#### Chart - 7"
      ],
      "metadata": {
        "id": "PIIx-8_IphqN"
      }
    },
    {
      "cell_type": "code",
      "source": [
        "# Chart - 7 visualization code\n",
        "# Chart - 9 visualization code\n",
        "# Visualizing with the help of histogram plot for the entire dataset\n",
        "# Set the plot size\n",
        "df.hist(figsize = (20,15))\n",
        "\n",
        "# To show\n",
        "plt.show()"
      ],
      "metadata": {
        "id": "lqAIGUfyphqO"
      },
      "execution_count": null,
      "outputs": []
    },
    {
      "cell_type": "markdown",
      "source": [
        "##### 1. Why did you pick the specific chart?"
      ],
      "metadata": {
        "id": "t27r6nlMphqO"
      }
    },
    {
      "cell_type": "markdown",
      "source": [
        "To examine the relationship between columns with numerical values, a histogram would be appropriate."
      ],
      "metadata": {
        "id": "iv6ro40sphqO"
      }
    },
    {
      "cell_type": "markdown",
      "source": [
        "##### 2. What is/are the insight(s) found from the chart?"
      ],
      "metadata": {
        "id": "r2jJGEOYphqO"
      }
    },
    {
      "cell_type": "markdown",
      "source": [
        "Every factor influencing revenue."
      ],
      "metadata": {
        "id": "Po6ZPi4hphqO"
      }
    },
    {
      "cell_type": "markdown",
      "source": [
        "##### 3. Will the gained insights help creating a positive business impact?\n",
        "Are there any insights that lead to negative growth? Justify with specific reason."
      ],
      "metadata": {
        "id": "b0JNsNcRphqO"
      }
    },
    {
      "cell_type": "markdown",
      "source": [
        "Every factor can impact bookings, so it's essential to focus on every aspect comprehensively."
      ],
      "metadata": {
        "id": "xvSq8iUTphqO"
      }
    },
    {
      "cell_type": "markdown",
      "source": [
        "#### Chart - 8"
      ],
      "metadata": {
        "id": "BZR9WyysphqO"
      }
    },
    {
      "cell_type": "code",
      "source": [
        "# Chart - 8 visualization code\n",
        "# Using groupby on arrival_date_month and taking the hotel count\n",
        "bookings_by_months_df = df.groupby(['arrival_date_month'])['hotel'].count().reset_index().rename(columns = {'hotel':'Counts'})\n",
        "\n",
        "# Creating list of months in order\n",
        "months = ['January', 'February', 'March', 'April', 'May', 'June', 'July', 'August', 'September', 'October', 'November', 'December']\n",
        "\n",
        "# Creating dataframe which will map the order of above months list without changing its values\n",
        "bookings_by_months_df['arrival_date_month'] = pd.Categorical(bookings_by_months_df['arrival_date_month'], categories = months, ordered = True)\n",
        "\n",
        "# Sorting by arrival_date_month\n",
        "bookings_by_months_df = bookings_by_months_df.sort_values('arrival_date_month')\n",
        "\n",
        "bookings_by_months_df"
      ],
      "metadata": {
        "id": "TdPTWpAVphqO"
      },
      "execution_count": null,
      "outputs": []
    },
    {
      "cell_type": "code",
      "source": [
        "# Visualizing with the help of line plot\n",
        "\n",
        "# Set plot size\n",
        "plt.figure(figsize = (14,6))\n",
        "\n",
        "# Plotting lineplot on x- months & y- bookings counts\n",
        "sns.lineplot(x = bookings_by_months_df['arrival_date_month'], y = bookings_by_months_df['Counts'])\n",
        "\n",
        "# Set title\n",
        "plt.title('Number of bookings across each month', fontsize = 20)\n",
        "\n",
        "# Set labels\n",
        "plt.xlabel('Month', fontsize = 16)\n",
        "plt.ylabel('Number of bookings', fontsize = 16)\n",
        "\n",
        "# To show\n",
        "plt.show()"
      ],
      "metadata": {
        "id": "l5Hwb3U1t_Y1"
      },
      "execution_count": null,
      "outputs": []
    },
    {
      "cell_type": "markdown",
      "source": [
        "##### 1. Why did you pick the specific chart?"
      ],
      "metadata": {
        "id": "jj7wYXLtphqO"
      }
    },
    {
      "cell_type": "markdown",
      "source": [
        "To understand the average daily rate across each month, a line chart would be an appropriate visualization."
      ],
      "metadata": {
        "id": "Ob8u6rCTphqO"
      }
    },
    {
      "cell_type": "markdown",
      "source": [
        "##### 2. What is/are the insight(s) found from the chart?"
      ],
      "metadata": {
        "id": "eZrbJ2SmphqO"
      }
    },
    {
      "cell_type": "markdown",
      "source": [
        "July and August exhibit higher average daily rates, whereas January, February, November, and December show lower average daily rates. The remaining months fall within an average range of rates."
      ],
      "metadata": {
        "id": "mZtgC_hjphqO"
      }
    },
    {
      "cell_type": "markdown",
      "source": [
        "##### 3. Will the gained insights help creating a positive business impact?\n",
        "Are there any insights that lead to negative growth? Justify with specific reason."
      ],
      "metadata": {
        "id": "rFu4xreNphqO"
      }
    },
    {
      "cell_type": "markdown",
      "source": [
        "Since only 2-3 months have high average daily rates (ADR), the hotel owner should prioritize strategies to increase ADR during the remaining months.\n",
        "\n",
        "\n",
        "\n",
        "\n",
        "\n"
      ],
      "metadata": {
        "id": "ey_0qi68phqO"
      }
    },
    {
      "cell_type": "markdown",
      "source": [
        "#### Chart - 9"
      ],
      "metadata": {
        "id": "YJ55k-q6phqO"
      }
    },
    {
      "cell_type": "code",
      "source": [
        "# Chart - 9 visualization code\n",
        "Waiting_booking = df[df['days_in_waiting_list'] != 0]\n",
        "\n",
        "\n",
        "sns.kdeplot(x = 'days_in_waiting_list', hue = 'is_canceled', data = Waiting_booking, palette='Paired')\n",
        "plt.show()"
      ],
      "metadata": {
        "id": "B2aS4O1ophqO"
      },
      "execution_count": null,
      "outputs": []
    },
    {
      "cell_type": "markdown",
      "source": [
        "##### 1. Why did you pick the specific chart?"
      ],
      "metadata": {
        "id": "gCFgpxoyphqP"
      }
    },
    {
      "cell_type": "markdown",
      "source": [
        "To examine the relationship between days in the waiting list and booking cancellations, a KDE plot would be suitable."
      ],
      "metadata": {
        "id": "TVxDimi2phqP"
      }
    },
    {
      "cell_type": "markdown",
      "source": [
        "##### 2. What is/are the insight(s) found from the chart?"
      ],
      "metadata": {
        "id": "OVtJsKN_phqQ"
      }
    },
    {
      "cell_type": "markdown",
      "source": [
        "As the number of days in the waiting list increases, the cancellation rate also tends to increase."
      ],
      "metadata": {
        "id": "ngGi97qjphqQ"
      }
    },
    {
      "cell_type": "markdown",
      "source": [
        "##### 3. Will the gained insights help creating a positive business impact?\n",
        "Are there any insights that lead to negative growth? Justify with specific reason."
      ],
      "metadata": {
        "id": "lssrdh5qphqQ"
      }
    },
    {
      "cell_type": "markdown",
      "source": [
        "By managing the waiting list effectively, we have the potential to reduce the cancellation rate."
      ],
      "metadata": {
        "id": "tBpY5ekJphqQ"
      }
    },
    {
      "cell_type": "markdown",
      "source": [
        "#### Chart - 10"
      ],
      "metadata": {
        "id": "U2RJ9gkRphqQ"
      }
    },
    {
      "cell_type": "code",
      "source": [
        "# Chart - 10 visualization code\n",
        "\n",
        "plt.figure(figsize = (15,5))\n",
        "sns.lineplot(x = 'arrival_date_month', y='adr', data = df, hue ='hotel')\n",
        "plt.grid()\n",
        "plt.title('Arrival per Month', weight='bold')\n",
        "plt.legend(title='Hotel Type')\n",
        "plt.xlabel('Arrival Month')\n",
        "plt.ylabel('ADR (Arrival Daily Rate)')"
      ],
      "metadata": {
        "id": "GM7a4YP4phqQ"
      },
      "execution_count": null,
      "outputs": []
    },
    {
      "cell_type": "markdown",
      "source": [
        "##### 1. Why did you pick the specific chart?"
      ],
      "metadata": {
        "id": "1M8mcRywphqQ"
      }
    },
    {
      "cell_type": "markdown",
      "source": [
        "To explore the average daily rate (ADR) across different types of hotels, a line plot would be an appropriate visualization."
      ],
      "metadata": {
        "id": "8agQvks0phqQ"
      }
    },
    {
      "cell_type": "markdown",
      "source": [
        "##### 2. What is/are the insight(s) found from the chart?"
      ],
      "metadata": {
        "id": "tgIPom80phqQ"
      }
    },
    {
      "cell_type": "markdown",
      "source": [
        "In City hotels, the average daily rate (ADR) remains relatively stable, whereas in Resort hotels, it fluctuates significantly. ADR peaks notably during July and August in Resort hotels."
      ],
      "metadata": {
        "id": "Qp13pnNzphqQ"
      }
    },
    {
      "cell_type": "markdown",
      "source": [
        "##### 3. Will the gained insights help creating a positive business impact?\n",
        "Are there any insights that lead to negative growth? Justify with specific reason."
      ],
      "metadata": {
        "id": "JMzcOPDDphqR"
      }
    },
    {
      "cell_type": "markdown",
      "source": [
        "Similar to City hotels, Resort hotels should consider strategies to maintain a consistent and high average daily rate (ADR)."
      ],
      "metadata": {
        "id": "R4Ka1PC2phqR"
      }
    },
    {
      "cell_type": "markdown",
      "source": [
        "#### Chart - 11"
      ],
      "metadata": {
        "id": "x-EpHcCOp1ci"
      }
    },
    {
      "cell_type": "code",
      "source": [
        "not_canceled = df[df['is_canceled'] == 0]\n",
        "s1 = not_canceled[not_canceled['total_stays_hotel'] < 10]\n",
        "plt.figure(figsize = (10,5))\n",
        "sns.countplot(x = s1['total_stays_hotel'], hue = s1['hotel'])\n",
        "plt.title('Stay length in hotels',fontweight=\"bold\", size=20)"
      ],
      "metadata": {
        "id": "mAQTIvtqp1cj"
      },
      "execution_count": null,
      "outputs": []
    },
    {
      "cell_type": "markdown",
      "source": [
        "##### 1. Why did you pick the specific chart?"
      ],
      "metadata": {
        "id": "X_VqEhTip1ck"
      }
    },
    {
      "cell_type": "markdown",
      "source": [
        "We want to know how long customers stay in different periods; for that, a bar chart is suitable."
      ],
      "metadata": {
        "id": "-vsMzt_np1ck"
      }
    },
    {
      "cell_type": "markdown",
      "source": [
        "##### 2. What is/are the insight(s) found from the chart?"
      ],
      "metadata": {
        "id": "8zGJKyg5p1ck"
      }
    },
    {
      "cell_type": "markdown",
      "source": [
        "Most customers stay for 2-4 days."
      ],
      "metadata": {
        "id": "ZYdMsrqVp1ck"
      }
    },
    {
      "cell_type": "markdown",
      "source": [
        "##### 3. Will the gained insights help creating a positive business impact?\n",
        "Are there any insights that lead to negative growth? Justify with specific reason."
      ],
      "metadata": {
        "id": "PVzmfK_Ep1ck"
      }
    },
    {
      "cell_type": "markdown",
      "source": [
        "Hotel owners implement various strategies to prolong customer stays because the longer customers stay, the more profit hotels can earn."
      ],
      "metadata": {
        "id": "druuKYZpp1ck"
      }
    },
    {
      "cell_type": "markdown",
      "source": [
        "#### Chart - 12"
      ],
      "metadata": {
        "id": "n3dbpmDWp1ck"
      }
    },
    {
      "cell_type": "code",
      "source": [
        "# Chart - 12 visualization code\n",
        "\n",
        "plt.figure(figsize = (10, 5))\n",
        "sns.countplot(data = df, x = 'total_of_special_requests', hue = 'is_canceled', palette='Paired')\n",
        "\n",
        "plt.grid()\n",
        "plt.title('Relationship Between Total Special Request and Their Canceled')\n",
        "plt.legend(title = 'is_canceled')\n",
        "\n",
        "plt.xlabel('total_of_special_requests')\n",
        "plt.ylabel('is_canceled')\n",
        "plt.show()\n",
        "\n"
      ],
      "metadata": {
        "id": "bwevp1tKp1ck"
      },
      "execution_count": null,
      "outputs": []
    },
    {
      "cell_type": "markdown",
      "source": [
        "##### 1. Why did you pick the specific chart?"
      ],
      "metadata": {
        "id": "ylSl6qgtp1ck"
      }
    },
    {
      "cell_type": "markdown",
      "source": [
        "We want to know the relationship between the total number of special requests and cancellations; for that, a contingency table is suitable."
      ],
      "metadata": {
        "id": "x-lUsV2mp1ck"
      }
    },
    {
      "cell_type": "markdown",
      "source": [
        "##### 2. What is/are the insight(s) found from the chart?"
      ],
      "metadata": {
        "id": "ZWILFDl5p1ck"
      }
    },
    {
      "cell_type": "markdown",
      "source": [
        "Most customers do not make special requests. Even if customers do make special requests, it is most likely just one."
      ],
      "metadata": {
        "id": "ozQPc2_Ip1cl"
      }
    },
    {
      "cell_type": "markdown",
      "source": [
        "##### 3. Will the gained insights help creating a positive business impact?\n",
        "Are there any insights that lead to negative growth? Justify with specific reason."
      ],
      "metadata": {
        "id": "VzWY6RrZgL9e"
      }
    },
    {
      "cell_type": "markdown",
      "source": [
        "It appears unfavorable because customers are not making many special requests. If customers made more requests, the hotel would have a greater opportunity to earn more money."
      ],
      "metadata": {
        "id": "uPQ8RGwHveiV"
      }
    },
    {
      "cell_type": "markdown",
      "source": [
        "#### Chart - 13"
      ],
      "metadata": {
        "id": "Ag9LCva-p1cl"
      }
    },
    {
      "cell_type": "code",
      "source": [
        "\n",
        "not_canceled = df[df['is_canceled'] == 0]\n",
        "s1 = not_canceled[not_canceled['stays_in_weekend_nights'] < 8]\n",
        "s2 = not_canceled[not_canceled['stays_in_week_nights'] < 8]\n",
        "\n",
        "plt.figure(figsize=(15, 8))\n",
        "plt.subplot(1, 2, 1)\n",
        "\n",
        "\n",
        "sns.countplot(x=s1['stays_in_weekend_nights'],hue='hotel', data=df, palette='cool')\n",
        "plt.title(\"Number of stays on weekend nights\",fontweight=\"bold\", size=20)\n",
        "plt.subplot(1, 2, 2)\n",
        "\n",
        "sns.countplot(x=s2['stays_in_week_nights'],hue='hotel', data=df, palette='rainbow_r')\n",
        "plt.title(\"Number of stays on weekday nights\",fontweight=\"bold\", size=20)\n",
        "\n",
        "\n"
      ],
      "metadata": {
        "id": "EUfxeq9-p1cl"
      },
      "execution_count": null,
      "outputs": []
    },
    {
      "cell_type": "markdown",
      "source": [
        "##### 1. Why did you pick the specific chart?"
      ],
      "metadata": {
        "id": "E6MkPsBcp1cl"
      }
    },
    {
      "cell_type": "markdown",
      "source": [
        "We want to know the number of stays on weekend nights compared to weeknights; for that, a bar chart is suitable."
      ],
      "metadata": {
        "id": "V22bRsFWp1cl"
      }
    },
    {
      "cell_type": "markdown",
      "source": [
        "##### 2. What is/are the insight(s) found from the chart?"
      ],
      "metadata": {
        "id": "2cELzS2fp1cl"
      }
    },
    {
      "cell_type": "markdown",
      "source": [
        "Stays are slightly higher on weeknights than on weekend nights."
      ],
      "metadata": {
        "id": "GL8l1tdLp1cl"
      }
    },
    {
      "cell_type": "markdown",
      "source": [
        "##### 3. Will the gained insights help creating a positive business impact?\n",
        "Are there any insights that lead to negative growth? Justify with specific reason."
      ],
      "metadata": {
        "id": "bQAXJCiOgIYn"
      }
    },
    {
      "cell_type": "markdown",
      "source": [
        "We can infer from the graph that stays are good on weekends, but there is a bit of room for improvement on weekdays."
      ],
      "metadata": {
        "id": "VtPjQuFLgIZG"
      }
    },
    {
      "cell_type": "markdown",
      "source": [
        "#### Chart - 14 - Correlation Heatmap"
      ],
      "metadata": {
        "id": "NC_X3p0fY2L0"
      }
    },
    {
      "cell_type": "code",
      "source": [
        "# Correlation Heatmap visualization code\n",
        "df = df.select_dtypes(include=['number'])\n",
        "plt.figure(figsize = (15, 10))\n",
        "sns.heatmap(df.corr(), annot = True)\n",
        "plt.title(\"Co-Relation Between Columns\", fontsize = 22)\n",
        "plt.show()\n"
      ],
      "metadata": {
        "id": "xyC9zolEZNRQ"
      },
      "execution_count": null,
      "outputs": []
    },
    {
      "cell_type": "markdown",
      "source": [
        "##### 1. Why did you pick the specific chart?"
      ],
      "metadata": {
        "id": "UV0SzAkaZNRQ"
      }
    },
    {
      "cell_type": "markdown",
      "source": [
        "We want to understand the relationship between all columns containing numeric values; for that, a correlation heatmap is suitable."
      ],
      "metadata": {
        "id": "DVPuT8LYZNRQ"
      }
    },
    {
      "cell_type": "markdown",
      "source": [
        "##### 2. What is/are the insight(s) found from the chart?"
      ],
      "metadata": {
        "id": "YPEH6qLeZNRQ"
      }
    },
    {
      "cell_type": "markdown",
      "source": [
        "Some factors directly influence each other. They also contribute to overall sales."
      ],
      "metadata": {
        "id": "bfSqtnDqZNRR"
      }
    },
    {
      "cell_type": "markdown",
      "source": [
        "##### 3. Will the gained insights help creating a positive business impact?\n",
        "Are there any insights that lead to negative growth? Justify with specific reason."
      ],
      "metadata": {
        "id": "3MPXvC8up1cl"
      }
    },
    {
      "cell_type": "markdown",
      "source": [
        "Not having parking can result in booking cancellation."
      ],
      "metadata": {
        "id": "16hrUYYAgL99"
      }
    },
    {
      "cell_type": "markdown",
      "source": [
        "#### Chart - 15 - Pair Plot"
      ],
      "metadata": {
        "id": "q29F0dvdveiT"
      }
    },
    {
      "cell_type": "code",
      "source": [
        "# Pair Plot visualization code\n",
        "sns.pairplot(df, hue = 'is_repeated_guest')\n",
        "\n",
        "# To show\n",
        "plt.show()"
      ],
      "metadata": {
        "id": "o58-TEIhveiU"
      },
      "execution_count": null,
      "outputs": []
    },
    {
      "cell_type": "markdown",
      "source": [
        "##### 1. Why did you pick the specific chart?"
      ],
      "metadata": {
        "id": "EXh0U9oCveiU"
      }
    },
    {
      "cell_type": "markdown",
      "source": [
        "Thus, I have used pair plot to analyze the patterns of data and relationships between the features. It's essentially the same as a scatter plot matrix, but here it visualizes the output in graphical form."
      ],
      "metadata": {
        "id": "eMmPjTByveiU"
      }
    },
    {
      "cell_type": "markdown",
      "source": [
        "##### 2. What is/are the insight(s) found from the chart?"
      ],
      "metadata": {
        "id": "22aHeOlLveiV"
      }
    },
    {
      "cell_type": "markdown",
      "source": [
        "We have identified the relationship of 'is_repeated_guest' with various types of columns. Thus, this chart generally illustrates the correlation of a specific column with all other columns."
      ],
      "metadata": {
        "id": "pASKb0qOza21"
      }
    },
    {
      "cell_type": "markdown",
      "source": [
        "## **5. Solution to Business Objective**"
      ],
      "metadata": {
        "id": "JcMwzZxoAimU"
      }
    },
    {
      "cell_type": "markdown",
      "source": [
        "#### What do you suggest the client to achieve Business Objective ?\n",
        "1) To achieve high growth and greater success, the hotel business needs to thrive, focusing on several key factors: maximizing revenue generation, ensuring customer satisfaction, and retaining employees.\n",
        "\n",
        "2) We can achieve these goals by presenting clients with insights into which months generate the highest revenue through various charts and graphs.\n",
        "\n",
        "3) Improving revenue can be accomplished by using bar charts to show which types of rooms are most preferred and booked, and identifying peak visitor months.\n",
        "\n",
        "4) We have also identified various customer preferences such as favorite meal types, optimal length of stay, and desired facilities like car parking spaces. These insights contribute to better planning for growth and increased revenue.\n",
        "\n",
        "5) By utilizing and understanding these valuable insights, clients can proactively prepare to minimize client grievances over the long term and enhance hospitality and service offerings.\n",
        "\n",
        "6) Regularly seeking feedback from hotel guests allows for continuous quality improvement to elevate service levels.\n",
        "\n",
        "7) Periodically offering promotions to attract returning customers can increase repeat visits and loyalty."
      ],
      "metadata": {
        "id": "8G2x9gOozGDZ"
      }
    },
    {
      "cell_type": "markdown",
      "source": [
        "# **Conclusion**"
      ],
      "metadata": {
        "id": "gCX9965dhzqZ"
      }
    },
    {
      "cell_type": "markdown",
      "source": [
        "City hotels are the most favored hotel type among guests. Therefore, we can conclude that City hotels are the busiest compared to resort hotels.\n",
        "\n",
        "The predominant booking distribution channel is 'TA/TO', accounting for 79.1% of bookings.\n",
        "\n",
        "The average daily rate (ADR) of city hotels is higher compared to resort hotels, indicating that City hotels generate more revenue.\n",
        "\n",
        "The total length of stay correlates directly with ADR. Longer stays lead to higher ADR and revenue.\n",
        "\n",
        "The majority of guests prefer room type 'A'.\n",
        "\n",
        "Among meal types, Bed & Breakfast (BB) is the most preferred by guests.\n",
        "\n",
        "'Direct' and 'TA/TO' channels contribute almost equally to ADR in both City and Resort hotels, while GDS (Global Distribution System) plays a significant role in City hotels.\n",
        "\n",
        "The percentage of repeat guests is very low, with only 3.9% revisiting the hotels. The retention rate is consequently low.\n",
        "\n",
        "Approximately 1/4th of all bookings are canceled.\n",
        "\n",
        "The optimal stay length for both hotel types is less than 7 days, with a preference for stays around a week.\n",
        "\n",
        "July and August are the peak months for bookings across both hotel types.\n",
        "\n",
        "ADR is higher in June, July, and August for Resort hotels compared to City hotels.\n",
        "\n",
        "The demand for car parking spaces is minimal, as 91.6% of customers do not require them, suggesting that parking availability does not significantly impact business.\n",
        "\n",
        "\n",
        "\n",
        "\n",
        "\n",
        "\n",
        "\n",
        "\n"
      ],
      "metadata": {
        "id": "Fjb1IsQkh3yE"
      }
    },
    {
      "cell_type": "markdown",
      "source": [
        "### ***Hurrah! You have successfully completed your EDA Capstone Project !!!***"
      ],
      "metadata": {
        "id": "gIfDvo9L0UH2"
      }
    }
  ]
}